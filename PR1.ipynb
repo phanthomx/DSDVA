{
 "cells": [
  {
   "cell_type": "code",
   "execution_count": 3,
   "id": "7286d7d1",
   "metadata": {},
   "outputs": [],
   "source": [
    "import pandas as pd"
   ]
  },
  {
   "cell_type": "code",
   "execution_count": 4,
   "id": "ade19005",
   "metadata": {},
   "outputs": [],
   "source": [
    "df = pd.read_csv(\"Sam.csv\")"
   ]
  },
  {
   "cell_type": "code",
   "execution_count": 5,
   "id": "836091ad",
   "metadata": {},
   "outputs": [
    {
     "data": {
      "text/html": [
       "<div>\n",
       "<style scoped>\n",
       "    .dataframe tbody tr th:only-of-type {\n",
       "        vertical-align: middle;\n",
       "    }\n",
       "\n",
       "    .dataframe tbody tr th {\n",
       "        vertical-align: top;\n",
       "    }\n",
       "\n",
       "    .dataframe thead th {\n",
       "        text-align: right;\n",
       "    }\n",
       "</style>\n",
       "<table border=\"1\" class=\"dataframe\">\n",
       "  <thead>\n",
       "    <tr style=\"text-align: right;\">\n",
       "      <th></th>\n",
       "      <th>ID</th>\n",
       "      <th>Name</th>\n",
       "      <th>Score</th>\n",
       "      <th>Salary</th>\n",
       "    </tr>\n",
       "  </thead>\n",
       "  <tbody>\n",
       "    <tr>\n",
       "      <th>0</th>\n",
       "      <td>1</td>\n",
       "      <td>Alice</td>\n",
       "      <td>85</td>\n",
       "      <td>60000</td>\n",
       "    </tr>\n",
       "    <tr>\n",
       "      <th>1</th>\n",
       "      <td>2</td>\n",
       "      <td>Bob</td>\n",
       "      <td>78</td>\n",
       "      <td>55000</td>\n",
       "    </tr>\n",
       "    <tr>\n",
       "      <th>2</th>\n",
       "      <td>3</td>\n",
       "      <td>Charlie</td>\n",
       "      <td>92</td>\n",
       "      <td>72000</td>\n",
       "    </tr>\n",
       "    <tr>\n",
       "      <th>3</th>\n",
       "      <td>4</td>\n",
       "      <td>David</td>\n",
       "      <td>88</td>\n",
       "      <td>68000</td>\n",
       "    </tr>\n",
       "    <tr>\n",
       "      <th>4</th>\n",
       "      <td>5</td>\n",
       "      <td>Emma</td>\n",
       "      <td>74</td>\n",
       "      <td>50000</td>\n",
       "    </tr>\n",
       "    <tr>\n",
       "      <th>5</th>\n",
       "      <td>6</td>\n",
       "      <td>Frank</td>\n",
       "      <td>90</td>\n",
       "      <td>70000</td>\n",
       "    </tr>\n",
       "    <tr>\n",
       "      <th>6</th>\n",
       "      <td>7</td>\n",
       "      <td>Grace</td>\n",
       "      <td>81</td>\n",
       "      <td>62000</td>\n",
       "    </tr>\n",
       "    <tr>\n",
       "      <th>7</th>\n",
       "      <td>8</td>\n",
       "      <td>Henry</td>\n",
       "      <td>95</td>\n",
       "      <td>75000</td>\n",
       "    </tr>\n",
       "    <tr>\n",
       "      <th>8</th>\n",
       "      <td>9</td>\n",
       "      <td>Ivy</td>\n",
       "      <td>87</td>\n",
       "      <td>67000</td>\n",
       "    </tr>\n",
       "    <tr>\n",
       "      <th>9</th>\n",
       "      <td>10</td>\n",
       "      <td>Jack</td>\n",
       "      <td>80</td>\n",
       "      <td>58000</td>\n",
       "    </tr>\n",
       "  </tbody>\n",
       "</table>\n",
       "</div>"
      ],
      "text/plain": [
       "   ID     Name  Score  Salary\n",
       "0   1    Alice     85   60000\n",
       "1   2      Bob     78   55000\n",
       "2   3  Charlie     92   72000\n",
       "3   4    David     88   68000\n",
       "4   5     Emma     74   50000\n",
       "5   6    Frank     90   70000\n",
       "6   7    Grace     81   62000\n",
       "7   8    Henry     95   75000\n",
       "8   9      Ivy     87   67000\n",
       "9  10     Jack     80   58000"
      ]
     },
     "execution_count": 5,
     "metadata": {},
     "output_type": "execute_result"
    }
   ],
   "source": [
    "df"
   ]
  },
  {
   "cell_type": "code",
   "execution_count": 6,
   "id": "d0d27527",
   "metadata": {},
   "outputs": [],
   "source": [
    "df.to_csv(\"Ap.csv\")"
   ]
  },
  {
   "cell_type": "code",
   "execution_count": 7,
   "id": "7512f0c8",
   "metadata": {},
   "outputs": [],
   "source": [
    "df.to_excel(\"Ap.xlsx\")"
   ]
  },
  {
   "cell_type": "code",
   "execution_count": 8,
   "id": "469e9833",
   "metadata": {},
   "outputs": [],
   "source": [
    "df.to_csv(\"Ap.txt\")"
   ]
  },
  {
   "cell_type": "code",
   "execution_count": 9,
   "id": "5efa7b5b",
   "metadata": {},
   "outputs": [],
   "source": [
    "df.to_json(\"op.json\")"
   ]
  },
  {
   "cell_type": "code",
   "execution_count": 11,
   "id": "8f780373",
   "metadata": {},
   "outputs": [],
   "source": [
    "dfe = pd.read_excel(\"Ap.xlsx\")  # Replace with your actual Excel file path\n",
    "dfe.to_csv(\"o.txt\")"
   ]
  },
  {
   "cell_type": "code",
   "execution_count": 13,
   "id": "89e65313",
   "metadata": {},
   "outputs": [],
   "source": [
    "dfj = pd.read_json(\"op.json\")  # Replace with your actual Excel file path\n",
    "dfj.to_csv(\"g.txt\")"
   ]
  },
  {
   "cell_type": "code",
   "execution_count": null,
   "id": "694f7122",
   "metadata": {},
   "outputs": [],
   "source": []
  }
 ],
 "metadata": {
  "kernelspec": {
   "display_name": "Python 3 (ipykernel)",
   "language": "python",
   "name": "python3"
  },
  "language_info": {
   "codemirror_mode": {
    "name": "ipython",
    "version": 3
   },
   "file_extension": ".py",
   "mimetype": "text/x-python",
   "name": "python",
   "nbconvert_exporter": "python",
   "pygments_lexer": "ipython3",
   "version": "3.11.3"
  }
 },
 "nbformat": 4,
 "nbformat_minor": 5
}
